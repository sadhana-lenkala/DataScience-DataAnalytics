{
 "cells": [
  {
   "cell_type": "markdown",
   "metadata": {},
   "source": [
    "# Data Ingestion"
   ]
  },
  {
   "cell_type": "code",
   "execution_count": null,
   "metadata": {},
   "outputs": [],
   "source": [
    "A <- read.csv('/Users/shashankkumar/Studies/SecondSem/ML/Assignments/Assignment2/Dataset/BlogFeedback/blogData_train.csv',header=FALSE,sep=\",\",)\n",
    "B <- read.csv('/Users/shashankkumar/Studies/SecondSem/ML/Assignments/Assignment2/Dataset/BlogFeedback/blogData_test-2012.02.01.00_00.csv',header=FALSE,sep=\",\",)\n",
    "C <- read.csv('/Users/shashankkumar/Studies/SecondSem/ML/Assignments/Assignment2/Dataset/BlogFeedback/blogData_test-2012.02.02.00_00.csv',header=FALSE,sep=\",\",)\n",
    "D <- read.csv('/Users/shashankkumar/Studies/SecondSem/ML/Assignments/Assignment2/Dataset/BlogFeedback/blogData_test-2012.03.01.00_00.csv',header=FALSE,sep=\",\",)\n",
    "E <- read.csv('/Users/shashankkumar/Studies/SecondSem/ML/Assignments/Assignment2/Dataset/BlogFeedback/blogData_test-2012.03.02.00_00.csv',header=FALSE,sep=\",\",)\n",
    "\n"
   ]
  },
  {
   "cell_type": "markdown",
   "metadata": {},
   "source": [
    "# Data Preparation for Experiment 1 and 2"
   ]
  },
  {
   "cell_type": "markdown",
   "metadata": {},
   "source": [
    "## Setting the column names across the datasets"
   ]
  },
  {
   "cell_type": "code",
   "execution_count": null,
   "metadata": {},
   "outputs": [],
   "source": [
    "for(i in 1:281){names(A)[ncol(A)] <- paste0(\"V\", i)}\n",
    "for(i in 1:281){names(B)[ncol(B)] <- paste0(\"V\", i)}\n",
    "for(i in 1:281){names(C)[ncol(C)] <- paste0(\"V\", i)}\n",
    "for(i in 1:281){names(D)[ncol(D)] <- paste0(\"V\", i)}\n",
    "for(i in 1:281){names(E)[ncol(E)] <- paste0(\"V\", i)}\n",
    "\n",
    "\n"
   ]
  },
  {
   "cell_type": "markdown",
   "metadata": {},
   "source": [
    "# Data Preprocessing"
   ]
  },
  {
   "cell_type": "code",
   "execution_count": null,
   "metadata": {},
   "outputs": [],
   "source": [
    "testSet_Exp1_Feb1 <- B[c(\"V51\",\"V52\",\"V53\",\"V54\",\"V55\",\"V56\",\"V57\",\"V58\",\"V59\",\"V60\")]\n",
    "testSet_Exp1_Feb2 <- C[c(\"V51\",\"V52\",\"V53\",\"V54\",\"V55\",\"V56\",\"V57\",\"V58\",\"V59\",\"V60\")]\n",
    "testSet_Exp1_Mar1 <- D[c(\"V51\",\"V52\",\"V53\",\"V54\",\"V55\",\"V56\",\"V57\",\"V58\",\"V59\",\"V60\")]\n",
    "testSet_Exp1_Mar2 <- E[c(\"V51\",\"V52\",\"V53\",\"V54\",\"V55\",\"V56\",\"V57\",\"V58\",\"V59\",\"V60\")]\n",
    "\n",
    "testSet_Exp2_Feb1 <- B[63:262]\n",
    "testSet_Exp2_Feb2 <- C[63:262]\n",
    "testSet_Exp2_Mar1 <- D[63:262]\n",
    "testSet_Exp2_Mar2 <- E[63:262]\n",
    "\n",
    "Actual_Exp1_Feb1 <- B[281]\n",
    "Actual_Exp1_Feb2 <- C[281]\n",
    "Actual_Exp1_Mar1 <- D[281]\n",
    "Actual_Exp1_Mar2 <- E[281]\n",
    "\n",
    "target<-A[281]\n",
    "#target$V281<-ifelse(target$V281>0, 1,0)\n",
    "basic_feature<-A[c(\"V51\",\"V52\",\"V53\",\"V54\",\"V55\",\"V56\",\"V57\",\"V58\",\"V59\",\"V60\")]\n",
    "basic_feature$V281<-target$V281\n"
   ]
  },
  {
   "cell_type": "markdown",
   "metadata": {},
   "source": [
    "# Experiment 1"
   ]
  },
  {
   "cell_type": "markdown",
   "metadata": {},
   "source": [
    "# Model 1-Linear Regression Model"
   ]
  },
  {
   "cell_type": "code",
   "execution_count": null,
   "metadata": {},
   "outputs": [],
   "source": [
    "LinearRegression_Model_Exp1 <- lm(formula=V281~V51+V52+V53+V54+V55+V56+V57+V58+V59+V60,data=basic_feature)"
   ]
  },
  {
   "cell_type": "code",
   "execution_count": null,
   "metadata": {},
   "outputs": [],
   "source": [
    "summary(LinearRegression_Model_Exp1)"
   ]
  },
  {
   "cell_type": "markdown",
   "metadata": {},
   "source": [
    "# Problem of muliticolinearity"
   ]
  },
  {
   "cell_type": "markdown",
   "metadata": {},
   "source": [
    "V55 and V60 features are not defined because of singularities. Two or more of the independent variables are perfectly collinear. If we look closely at the dataset description, both these columns have been derived from other columns(52 & 53) and (57 & 58) from the dataset. \n",
    "\n",
    "The basic assumption while creating Machine Learning models is explainatory variables or features are independent of each other. If they are are dependent, it brings in the problem of multicolinearity. Multicolinearity:\n",
    "\n",
    "- can make choosing the correct features to include more difficult\n",
    "- interferes in determining the precise effect of each feature\n",
    "\n",
    "However, it **does not affect the fit of the model overall**.\n",
    "\n",
    "Let us ponder over what can be done to remove multicolinearity. We have several options:\n",
    "\n",
    "- removing highly correlated features\n",
    "- combine correlated features \n",
    "- use other methods like principal components analysis(PCA) and partial least squares regression\n",
    "\n",
    "For the problem at hand we will pick up the strategy to remove the highly correlated features out of our prediction model. Let us start by removing V55 and V60."
   ]
  },
  {
   "cell_type": "markdown",
   "metadata": {},
   "source": [
    "# Running Linear Model without features V55 and V60"
   ]
  },
  {
   "cell_type": "code",
   "execution_count": null,
   "metadata": {},
   "outputs": [],
   "source": [
    "testSet_Exp1_Feb1 <- B[c(\"V51\",\"V52\",\"V53\",\"V54\",\"V56\",\"V57\",\"V58\",\"V59\")]\n",
    "testSet_Exp1_Feb2 <- C[c(\"V51\",\"V52\",\"V53\",\"V54\",\"V56\",\"V57\",\"V58\",\"V59\")]\n",
    "testSet_Exp1_Mar1 <- D[c(\"V51\",\"V52\",\"V53\",\"V54\",\"V56\",\"V57\",\"V58\",\"V59\")]\n",
    "testSet_Exp1_Mar2 <- E[c(\"V51\",\"V52\",\"V53\",\"V54\",\"V56\",\"V57\",\"V58\",\"V59\")]"
   ]
  },
  {
   "cell_type": "code",
   "execution_count": null,
   "metadata": {},
   "outputs": [],
   "source": [
    "\n",
    "basic_feature<-A[c(\"V51\",\"V52\",\"V53\",\"V54\",\"V56\",\"V57\",\"V58\",\"V59\")]\n",
    "basic_feature$V281<-target$V281\n",
    "\n",
    "LinearRegression_Model_Exp1 <- lm(formula=V281~V51+V52+V53+V54+V56+V57+V58+V59,data=basic_feature)\n"
   ]
  },
  {
   "cell_type": "code",
   "execution_count": null,
   "metadata": {},
   "outputs": [],
   "source": [
    "summary(LinearRegression_Model_Exp1)"
   ]
  },
  {
   "cell_type": "markdown",
   "metadata": {},
   "source": [
    "Multiple R-squared states that our explainatory variables are capable of explaning only 22.55% of the target variable. Not a good model indeed! We need to dig deeper to find out what went wrong.\n",
    "\n"
   ]
  },
  {
   "cell_type": "markdown",
   "metadata": {},
   "source": [
    "# Correlation Matrix"
   ]
  },
  {
   "cell_type": "code",
   "execution_count": null,
   "metadata": {},
   "outputs": [],
   "source": [
    "cormat <- round(cor(basic_feature),2)\n",
    "cormat"
   ]
  },
  {
   "cell_type": "code",
   "execution_count": null,
   "metadata": {
    "scrolled": true
   },
   "outputs": [],
   "source": [
    "cormat"
   ]
  },
  {
   "cell_type": "markdown",
   "metadata": {},
   "source": [
    "# Error metric (rss)\n",
    "\n",
    "We have choosen our error metric as rss."
   ]
  },
  {
   "cell_type": "code",
   "execution_count": null,
   "metadata": {},
   "outputs": [],
   "source": [
    "\n",
    "Lin_pred_onTrain<-predict(LinearRegression_Model_Exp1,basic_feature,se.fit=TRUE)\n",
    "rss=sum((target-Lin_pred_onTrain$fit)^2)\n",
    "print(paste0(\"rss on training data is \", rss))\n",
    "\n",
    "Lin_pred_exp1_Feb1<-predict(LinearRegression_Model_Exp1,testSet_Exp1_Feb1,se.fit=TRUE)\n",
    "rss=sum((Actual_Exp1_Feb1-Lin_pred_exp1_Feb1$fit)^2)\n",
    "print(paste0(\"rss on Feb1 test data is \", rss))\n",
    "\n",
    "Lin_pred_exp1_Feb2<-predict(LinearRegression_Model_Exp1,testSet_Exp1_Feb2,se.fit=TRUE)\n",
    "rss=sum((Actual_Exp1_Feb2-Lin_pred_exp1_Feb1$fit)^2)\n",
    "print(paste0(\"rss on Feb2 test data is \", rss))\n",
    "\n",
    "Lin_pred_exp1_Mar1<-predict(LinearRegression_Model_Exp1,testSet_Exp1_Mar1,se.fit=TRUE)\n",
    "rss=sum((Actual_Exp1_Mar1-Lin_pred_exp1_Feb1$fit)^2)\n",
    "print(paste0(\"rss on Mar1 test data is \", rss))\n",
    "\n",
    "Lin_pred_exp1_Mar2<-predict(LinearRegression_Model_Exp1,testSet_Exp1_Mar2,se.fit=TRUE)\n",
    "rss=sum((Actual_Exp1_Mar2-Lin_pred_exp1_Feb1$fit)^2)\n",
    "print(paste0(\"rss on Mar2 test data is \", rss))\n"
   ]
  },
  {
   "cell_type": "markdown",
   "metadata": {},
   "source": [
    "Correlation matrix shows there are still many features strongly correlated. For instance, **V56 & V59 and V51 & V54**. Let us remove V59 & V54 and check performance of our model. "
   ]
  },
  {
   "cell_type": "markdown",
   "metadata": {},
   "source": [
    "# Running Linear Model without features V59 and V54"
   ]
  },
  {
   "cell_type": "code",
   "execution_count": null,
   "metadata": {},
   "outputs": [],
   "source": [
    "testSet_Exp1_Feb1 <- B[c(\"V51\",\"V52\",\"V53\",\"V56\",\"V57\",\"V58\")]\n",
    "testSet_Exp1_Feb2 <- C[c(\"V51\",\"V52\",\"V53\",\"V56\",\"V57\",\"V58\")]\n",
    "testSet_Exp1_Mar1 <- D[c(\"V51\",\"V52\",\"V53\",\"V56\",\"V57\",\"V58\")]\n",
    "testSet_Exp1_Mar2 <- E[c(\"V51\",\"V52\",\"V53\",\"V56\",\"V57\",\"V58\")]\n",
    "\n",
    "\n",
    "basic_feature<-A[c(\"V51\",\"V52\",\"V53\",\"V56\",\"V57\",\"V58\")]\n",
    "basic_feature$V281<-target$V281\n",
    "\n",
    "LinearRegression_Model_Exp1 <- lm(formula=V281~V51+V52+V53+V56+V57+V58,data=basic_feature)\n",
    "#summary(LinearRegression_Model_Exp1)"
   ]
  },
  {
   "cell_type": "code",
   "execution_count": null,
   "metadata": {},
   "outputs": [],
   "source": [
    "summary(LinearRegression_Model_Exp1)"
   ]
  },
  {
   "cell_type": "code",
   "execution_count": null,
   "metadata": {},
   "outputs": [],
   "source": [
    "\n",
    "Lin_pred_onTrain<-predict(LinearRegression_Model_Exp1,basic_feature,se.fit=TRUE)\n",
    "rss=sum((target-Lin_pred_onTrain$fit)^2)\n",
    "print(paste0(\"rss on training data is \", rss))\n",
    "\n",
    "Lin_pred_exp1_Feb1<-predict(LinearRegression_Model_Exp1,testSet_Exp1_Feb1,se.fit=TRUE)\n",
    "rss=sum((Actual_Exp1_Feb1-Lin_pred_exp1_Feb1$fit)^2)\n",
    "print(paste0(\"rss on Feb1 test data is \", rss))\n",
    "\n",
    "Lin_pred_exp1_Feb2<-predict(LinearRegression_Model_Exp1,testSet_Exp1_Feb2,se.fit=TRUE)\n",
    "rss=sum((Actual_Exp1_Feb2-Lin_pred_exp1_Feb1$fit)^2)\n",
    "print(paste0(\"rss on Feb2 test data is \", rss))\n",
    "\n",
    "Lin_pred_exp1_Mar1<-predict(LinearRegression_Model_Exp1,testSet_Exp1_Mar1,se.fit=TRUE)\n",
    "rss=sum((Actual_Exp1_Mar1-Lin_pred_exp1_Feb1$fit)^2)\n",
    "print(paste0(\"rss on Mar1 test data is \", rss))\n",
    "\n",
    "Lin_pred_exp1_Mar2<-predict(LinearRegression_Model_Exp1,testSet_Exp1_Mar2,se.fit=TRUE)\n",
    "rss=sum((Actual_Exp1_Mar2-Lin_pred_exp1_Feb1$fit)^2)\n",
    "print(paste0(\"rss on Mar2 test data is \", rss))"
   ]
  },
  {
   "cell_type": "markdown",
   "metadata": {},
   "source": [
    "Performance of our model does not change significantly after removing multicolinearity. "
   ]
  },
  {
   "cell_type": "markdown",
   "metadata": {},
   "source": [
    "# Model 2-Logistic Regression"
   ]
  },
  {
   "cell_type": "markdown",
   "metadata": {},
   "source": [
    "## Running Logistic Regression on the test datasets without columns V55 and V60"
   ]
  },
  {
   "cell_type": "code",
   "execution_count": null,
   "metadata": {},
   "outputs": [],
   "source": [
    "testSet_Exp1_Feb1 <- B[c(\"V51\",\"V52\",\"V53\",\"V54\",\"V56\",\"V57\",\"V58\",\"V59\")]\n",
    "testSet_Exp1_Feb2 <- C[c(\"V51\",\"V52\",\"V53\",\"V54\",\"V56\",\"V57\",\"V58\",\"V59\")]\n",
    "testSet_Exp1_Mar1 <- D[c(\"V51\",\"V52\",\"V53\",\"V54\",\"V56\",\"V57\",\"V58\",\"V59\")]\n",
    "testSet_Exp1_Mar2 <- E[c(\"V51\",\"V52\",\"V53\",\"V54\",\"V56\",\"V57\",\"V58\",\"V59\")]\n",
    "\n",
    "\n",
    "basic_feature<-A[c(\"V51\",\"V52\",\"V53\",\"V54\",\"V56\",\"V57\",\"V58\",\"V59\")]\n",
    "basic_feature$V281<-target$V281\n",
    "\n",
    "\n"
   ]
  },
  {
   "cell_type": "markdown",
   "metadata": {},
   "source": [
    "## Changing target variable to 0 and 1"
   ]
  },
  {
   "cell_type": "code",
   "execution_count": null,
   "metadata": {},
   "outputs": [],
   "source": [
    "basic_feature$V281<-ifelse(target$V281>0, 1,0)\n",
    "Actual_Exp1_Feb1$V281<-ifelse(Actual_Exp1_Feb1$V281>0, 1,0)\n",
    "Actual_Exp1_Feb2$V281<-ifelse(Actual_Exp1_Feb2$V281>0, 1,0)\n",
    "Actual_Exp1_Mar1$V281<-ifelse(Actual_Exp1_Mar1$V281>0, 1,0)\n",
    "Actual_Exp1_Mar2$V281<-ifelse(Actual_Exp1_Mar2$V281>0, 1,0)\n",
    "\n"
   ]
  },
  {
   "cell_type": "code",
   "execution_count": null,
   "metadata": {},
   "outputs": [],
   "source": [
    "\n",
    "LogisticRegression_Model_Exp1 <- glm(formula=V281~.,data=basic_feature,family = binomial(link = 'logit'))\n",
    "\n"
   ]
  },
  {
   "cell_type": "code",
   "execution_count": null,
   "metadata": {},
   "outputs": [],
   "source": [
    "summary(LogisticRegression_Model_Exp1)"
   ]
  },
  {
   "cell_type": "code",
   "execution_count": null,
   "metadata": {},
   "outputs": [],
   "source": [
    "Log_pred_onTrain<-predict(LogisticRegression_Model_Exp1,basic_feature,se.fit=TRUE)\n",
    "rss=sum((target-Log_pred_onTrain$fit)^2)\n",
    "print(paste0(\"rss on training data is \", rss))\n",
    "\n",
    "Log_pred_exp1_Feb1<-predict(LogisticRegression_Model_Exp1,testSet_Exp1_Feb1,se.fit=TRUE)\n",
    "rss=sum((Actual_Exp1_Feb1-Log_pred_exp1_Feb1$fit)^2)\n",
    "print(paste0(\"rss on test Feb1 data is \", rss))\n",
    "\n",
    "Log_pred_exp1_Feb2<-predict(LogisticRegression_Model_Exp1,testSet_Exp1_Feb2,se.fit=TRUE)\n",
    "rss=sum((Actual_Exp1_Feb2-Log_pred_exp1_Feb2$fit)^2)\n",
    "print(paste0(\"rss on test Feb2 data is \", rss))\n",
    "\n",
    "Log_pred_exp1_Mar1<-predict(LogisticRegression_Model_Exp1,testSet_Exp1_Mar1,se.fit=TRUE)\n",
    "rss=sum((Actual_Exp1_Mar1-Log_pred_exp1_Mar1$fit)^2)\n",
    "print(paste0(\"rss on test Mar1 data is \", rss))\n",
    "\n",
    "Log_pred_exp1_Mar2<-predict(LogisticRegression_Model_Exp1,testSet_Exp1_Mar2,se.fit=TRUE)\n",
    "rss=sum((Actual_Exp1_Mar2-Log_pred_exp1_Mar2$fit)^2)\n",
    "print(paste0(\"rss on test Mar2 data is \", rss))"
   ]
  },
  {
   "cell_type": "markdown",
   "metadata": {},
   "source": [
    "# Running Logistic Model without features V59 and V54"
   ]
  },
  {
   "cell_type": "code",
   "execution_count": null,
   "metadata": {
    "scrolled": true
   },
   "outputs": [],
   "source": [
    "testSet_Exp1_Feb1 <- B[c(\"V51\",\"V52\",\"V53\",\"V56\",\"V57\",\"V58\")]\n",
    "testSet_Exp1_Feb2 <- C[c(\"V51\",\"V52\",\"V53\",\"V56\",\"V57\",\"V58\")]\n",
    "testSet_Exp1_Mar1 <- D[c(\"V51\",\"V52\",\"V53\",\"V56\",\"V57\",\"V58\")]\n",
    "testSet_Exp1_Mar2 <- E[c(\"V51\",\"V52\",\"V53\",\"V56\",\"V57\",\"V58\")]\n",
    "\n",
    "\n",
    "basic_feature<-A[c(\"V51\",\"V52\",\"V53\",\"V56\",\"V57\",\"V58\")]\n",
    "basic_feature$V281<-target$V281\n",
    "\n",
    "\n",
    "basic_feature$V281<-ifelse(target$V281>0, 1,0)\n",
    "Actual_Exp1_Feb1$V281<-ifelse(Actual_Exp1_Feb1$V281>0, 1,0)\n",
    "Actual_Exp1_Feb2$V281<-ifelse(Actual_Exp1_Feb2$V281>0, 1,0)\n",
    "Actual_Exp1_Mar1$V281<-ifelse(Actual_Exp1_Mar1$V281>0, 1,0)\n",
    "Actual_Exp1_Mar2$V281<-ifelse(Actual_Exp1_Mar2$V281>0, 1,0)\n",
    "\n",
    "LogisticRegression_Model_Exp1 <- glm(formula=V281~.,data=basic_feature,family = binomial(link = 'logit'))\n",
    "\n",
    "summary(LogisticRegression_Model_Exp1)"
   ]
  },
  {
   "cell_type": "markdown",
   "metadata": {},
   "source": [
    "Lower value of AIC suggests \"better\" model, but it is a relative measure of model fit. It is used for model selection, i.e. it lets us compare different models estimated on the same dataset. \n",
    "\n",
    "AIC of both the models suggest there is no significant imporvment after removing colinear features. "
   ]
  },
  {
   "cell_type": "markdown",
   "metadata": {},
   "source": [
    "# Model Comparision Approach"
   ]
  },
  {
   "cell_type": "markdown",
   "metadata": {},
   "source": [
    "We will run both the regression algorithms on Categorical target and compare their rss."
   ]
  },
  {
   "cell_type": "markdown",
   "metadata": {},
   "source": [
    "## Running Linear Model on Categorical Target"
   ]
  },
  {
   "cell_type": "code",
   "execution_count": null,
   "metadata": {},
   "outputs": [],
   "source": [
    "testSet_Exp1_Feb1 <- B[c(\"V51\",\"V52\",\"V53\",\"V54\",\"V56\",\"V57\",\"V58\",\"V59\")]\n",
    "testSet_Exp1_Feb2 <- C[c(\"V51\",\"V52\",\"V53\",\"V54\",\"V56\",\"V57\",\"V58\",\"V59\")]\n",
    "testSet_Exp1_Mar1 <- D[c(\"V51\",\"V52\",\"V53\",\"V54\",\"V56\",\"V57\",\"V58\",\"V59\")]\n",
    "testSet_Exp1_Mar2 <- E[c(\"V51\",\"V52\",\"V53\",\"V54\",\"V56\",\"V57\",\"V58\",\"V59\")]\n",
    "\n",
    "basic_feature<-A[c(\"V51\",\"V52\",\"V53\",\"V54\",\"V56\",\"V57\",\"V58\",\"V59\")]\n",
    "basic_feature$V281<-target$V281\n",
    "\n",
    "basic_feature$V281<-ifelse(target$V281>0, 1,0)\n",
    "target$V281<-ifelse(target$V281>0, 1,0)\n",
    "LinearRegression_Model_Exp1 <- lm(formula=V281~V51+V52+V53+V54+V56+V57+V58+V59,data=basic_feature)\n",
    "\n",
    "summary(LinearRegression_Model_Exp1)"
   ]
  },
  {
   "cell_type": "markdown",
   "metadata": {},
   "source": [
    "The above model also have a very low Multiple R-squared which means it is not a good model."
   ]
  },
  {
   "cell_type": "code",
   "execution_count": null,
   "metadata": {},
   "outputs": [],
   "source": [
    "Lin_pred_onTrain<-predict(LinearRegression_Model_Exp1,basic_feature,se.fit=TRUE)\n",
    "rss=sum((target-Lin_pred_onTrain$fit)^2)\n",
    "print(paste0(\"rss on training data is \", rss))\n",
    "\n",
    "Lin_pred_exp1_Feb1<-predict(LinearRegression_Model_Exp1,testSet_Exp1_Feb1,se.fit=TRUE)\n",
    "rss=sum((Actual_Exp1_Feb1-Lin_pred_exp1_Feb1$fit)^2)\n",
    "print(paste0(\"rss on Feb1 test data is \", rss))\n",
    "\n",
    "Lin_pred_exp1_Feb2<-predict(LinearRegression_Model_Exp1,testSet_Exp1_Feb2,se.fit=TRUE)\n",
    "rss=sum((Actual_Exp1_Feb2-Lin_pred_exp1_Feb1$fit)^2)\n",
    "print(paste0(\"rss on Feb2 test data is \", rss))\n",
    "\n",
    "Lin_pred_exp1_Mar1<-predict(LinearRegression_Model_Exp1,testSet_Exp1_Mar1,se.fit=TRUE)\n",
    "rss=sum((Actual_Exp1_Mar1-Lin_pred_exp1_Feb1$fit)^2)\n",
    "print(paste0(\"rss on Mar1 test data is \", rss))\n",
    "\n",
    "Lin_pred_exp1_Mar2<-predict(LinearRegression_Model_Exp1,testSet_Exp1_Mar2,se.fit=TRUE)\n",
    "rss=sum((Actual_Exp1_Mar2-Lin_pred_exp1_Feb1$fit)^2)\n",
    "print(paste0(\"rss on Mar2 test data is \", rss))"
   ]
  },
  {
   "cell_type": "markdown",
   "metadata": {},
   "source": [
    "## Model Comparision Conclusion for Experiment 1"
   ]
  },
  {
   "cell_type": "markdown",
   "metadata": {},
   "source": [
    "Linear Regression model's rss is better as compared to Logistic Regression when the target variable is categorical. "
   ]
  },
  {
   "cell_type": "markdown",
   "metadata": {},
   "source": [
    "# Experiment 2"
   ]
  },
  {
   "cell_type": "markdown",
   "metadata": {},
   "source": [
    "# Model 1-Linear Regression Model"
   ]
  },
  {
   "cell_type": "code",
   "execution_count": null,
   "metadata": {},
   "outputs": [],
   "source": [
    "testSet_Exp2_Feb1 <- B[63:262]\n",
    "testSet_Exp2_Feb2 <- C[63:262]\n",
    "testSet_Exp2_Mar1 <- D[63:262]\n",
    "testSet_Exp2_Mar2 <- E[63:262]\n",
    "\n",
    "Actual_Exp1_Feb1 <- B[281]\n",
    "Actual_Exp1_Feb2 <- C[281]\n",
    "Actual_Exp1_Mar1 <- D[281]\n",
    "Actual_Exp1_Mar2 <- E[281]\n",
    "\n",
    "textual_feature=A[63:262]\n",
    "textual_feature$V281<-target$V281"
   ]
  },
  {
   "cell_type": "code",
   "execution_count": null,
   "metadata": {},
   "outputs": [],
   "source": [
    "typeof(Actual_Exp1_Feb1)"
   ]
  },
  {
   "cell_type": "code",
   "execution_count": null,
   "metadata": {},
   "outputs": [],
   "source": [
    "\n",
    "LinearRegression_Model_Exp2 <- lm(formula=V281~.,data=textual_feature)\n",
    "\n",
    "Lin_pred_onTrain<-predict(LinearRegression_Model_Exp2,textual_feature,se.fit=TRUE)\n",
    "rss=sum((target-Lin_pred_onTrain$fit)^2)\n",
    "aprint(paste0(\"rss on training data is \", rss))\n",
    "\n",
    "Lin_pred_exp2_Feb1<-predict(LinearRegression_Model_Exp2,testSet_Exp2_Feb1,se.fit=TRUE)\n",
    "rss=sum((Actual_Exp1_Feb1-Lin_pred_exp2_Feb1$fit)^2)\n",
    "print(paste0(\"rss on Feb1 test data is \", rss))\n",
    "\n",
    "Lin_pred_exp2_Feb2<-predict(LinearRegression_Model_Exp2,testSet_Exp2_Feb2,se.fit=TRUE)\n",
    "rss=sum((Actual_Exp1_Feb1-Lin_pred_exp2_Feb2$fit)^2)\n",
    "print(paste0(\"rss on Feb2 test data is \", rss))\n",
    "\n",
    "Lin_pred_exp2_Mar1<-predict(LinearRegression_Model_Exp2,testSet_Exp2_Mar1,se.fit=TRUE)\n",
    "rss=sum((Actual_Exp1_Feb1-Lin_pred_exp2_Mar1$fit)^2)\n",
    "print(paste0(\"rss on Mar1 test data is \", rss))\n",
    "\n",
    "Lin_pred_exp2_Mar2<-predict(LinearRegression_Model_Exp2,testSet_Exp2_Mar2,se.fit=TRUE)\n",
    "rss=sum((Actual_Exp1_Feb1-Lin_pred_exp2_Mar2$fit)^2)\n",
    "print(paste0(\"rss on Mar2 test data is \", rss))\n"
   ]
  },
  {
   "cell_type": "markdown",
   "metadata": {},
   "source": [
    "The above model has rank deficiency. We should analyse our model's summary to check what went wrong."
   ]
  },
  {
   "cell_type": "code",
   "execution_count": null,
   "metadata": {},
   "outputs": [],
   "source": [
    "LinearRegression_Model_Exp2"
   ]
  },
  {
   "cell_type": "markdown",
   "metadata": {},
   "source": [
    "'V63', 'V64', 'V65', 'V66', 'V67', 'V68', 'V69', 'V70', 'V71', 'V72', 'V74', 'V75',  'V77', 'V78', 'V79',  'V82', 'V83', 'V84', 'V85', 'V86', 'V87', 'V88', 'V89', 'V90', 'V91', 'V92', 'V93',  'V95', 'V96', 'V98', 'V99', 'V100', 'V101', 'V102', 'V103', 'V104', 'V105', 'V106', 'V107', 'V108', 'V109', 'V110', 'V111', 'V112', 'V113', 'V114', 'V115', 'V116', 'V117', 'V118', 'V119', 'V120', 'V121', 'V122', 'V123', 'V124', 'V125', 'V126', 'V127', 'V128', 'V129',  'V131', 'V133', 'V134', 'V135', 'V136', 'V137', 'V138', 'V139', 'V140', 'V141', 'V142', 'V143', 'V144', 'V145', 'V146', 'V147', 'V148',  'V150', 'V151', 'V152', 'V153', 'V154', 'V155', 'V157', 'V158', 'V159', 'V160',  'V162', 'V163', 'V164', 'V165', 'V167', 'V168','V170', 'V171',  'V173', 'V174', 'V175', 'V176', 'V177', 'V178','V180', 'V181', 'V182', 'V183', 'V184', 'V185', 'V186', 'V187', 'V188', 'V189',  'V191', 'V192', 'V193', 'V194', 'V195', 'V196', 'V197',  'V199', 'V201', 'V202', 'V203', 'V204', 'V205', 'V206', 'V207', 'V208', 'V209', 'V210', 'V211',  'V213', 'V214', 'V215', 'V216', 'V217', 'V218', 'V219', 'V220', 'V221', 'V222', 'V223', 'V224', 'V225', 'V226', 'V227', 'V228', 'V229', 'V230', 'V231', 'V232', 'V233', 'V234', 'V235', 'V237', 'V238', 'V239', 'V240', 'V241', 'V242',  'V244', 'V245', 'V246', 'V247', 'V248', 'V249', 'V251', 'V252', 'V253', 'V254', 'V255', 'V256', 'V257', 'V258', 'V259', 'V260', 'V261', 'V262', 'V263', 'V264', 'V265', 'V266', 'V267', 'V268', 'V269', 'V270', 'V271', 'V272', 'V273', 'V274', 'V275', 'V276', 'V277', 'V278', 'V279', 'V280', 'V281'"
   ]
  },
  {
   "cell_type": "code",
   "execution_count": null,
   "metadata": {},
   "outputs": [],
   "source": []
  },
  {
   "cell_type": "code",
   "execution_count": null,
   "metadata": {},
   "outputs": [],
   "source": [
    "\n",
    "\n",
    "Lin_pred_onTrain<-predict(LinearRegression_Model_Exp1,basic_feature,se.fit=TRUE)\n",
    "rss=sum((target-Lin_pred_onTrain$fit)^2)\n",
    "print(paste0(\"rss on training data is \", rss))\n",
    "\n",
    "Lin_pred_exp1_Feb1<-predict(LinearRegression_Model_Exp1,testSet_Exp1_Feb1,se.fit=TRUE)\n",
    "rss=sum((Actual_Exp1_Feb1-Lin_pred_exp1_Feb1$fit)^2)\n",
    "\n",
    "Lin_pred_exp1_Feb2<-predict(LinearRegression_Model_Exp1,testSet_Exp1_Feb2,se.fit=TRUE)\n",
    "rss=sum((Actual_Exp1_Feb2-Lin_pred_exp1_Feb1$fit)^2)\n",
    "\n",
    "Lin_pred_exp1_Mar1<-predict(LinearRegression_Model_Exp1,testSet_Exp1_Mar1,se.fit=TRUE)\n",
    "rss=sum((Actual_Exp1_Mar1-Lin_pred_exp1_Feb1$fit)^2)\n",
    "\n",
    "Lin_pred_exp1_Mar2<-predict(LinearRegression_Model_Exp1,testSet_Exp1_Mar2,se.fit=TRUE)\n",
    "rss=sum((Actual_Exp1_Mar2-Lin_pred_exp1_Feb1$fit)^2)\n",
    "\n",
    "\n",
    "textual_feature=A[63:262]\n",
    "textual_feature$V281<-target$V281\n",
    "LinearRegression_Model_Exp2 <- lm(formula=V281~.,data=textual_feature)\n",
    "\n",
    "Lin_pred_onTrain<-predict(LinearRegression_Model_Exp2,textual_feature,se.fit=TRUE)\n",
    "rss=sum((target-Lin_pred_onTrain$fit)^2)\n",
    "\n",
    "Lin_pred_exp2_Feb1<-predict(LinearRegression_Model_Exp2,testSet_Exp2_Feb1,se.fit=TRUE)\n",
    "rss=sum((Actual_Exp1_Feb1-Lin_pred_exp2_Feb1$fit)^2)\n",
    "\n",
    "Lin_pred_exp2_Feb2<-predict(LinearRegression_Model_Exp2,testSet_Exp2_Feb2,se.fit=TRUE)\n",
    "rss=sum((Actual_Exp1_Feb1-Lin_pred_exp2_Feb2$fit)^2)\n",
    "\n",
    "Lin_pred_exp2_Mar1<-predict(LinearRegression_Model_Exp2,testSet_Exp2_Mar1,se.fit=TRUE)\n",
    "rss=sum((Actual_Exp1_Feb1-Lin_pred_exp2_Mar1$fit)^2)\n",
    "\n",
    "Lin_pred_exp2_Mar2<-predict(LinearRegression_Model_Exp2,testSet_Exp2_Mar2,se.fit=TRUE)\n",
    "rss=sum((Actual_Exp1_Feb1-Lin_pred_exp2_Mar2$fit)^2)\n",
    "\n",
    "\n",
    "basic_feature$V281<-ifelse(target$V281>0, 1,0)\n",
    "LogisticRegression_Model_Exp1 <- glm(formula=V281~.,data=basic_feature,family = binomial(link = 'logit'))\n",
    "\n",
    "Log_pred_onTrain<-predict(LogisticRegression_Model_Exp1,basic_feature,se.fit=TRUE)\n",
    "rss=sum((target-Log_pred_onTrain$fit)^2)\n",
    "\n",
    "Log_pred_exp1_Feb1<-predict(LogisticRegression_Model_Exp1,testSet_Exp1_Feb1,se.fit=TRUE)\n",
    "rss=sum((Actual_Exp1_Feb1-Log_pred_exp1_Feb1$fit)^2)\n",
    "\n",
    "Log_pred_exp1_Feb2<-predict(LogisticRegression_Model_Exp1,testSet_Exp1_Feb2,se.fit=TRUE)\n",
    "rss=sum((Actual_Exp1_Feb2-Log_pred_exp1_Feb2$fit)^2)\n",
    "\n",
    "Log_pred_exp1_Mar1<-predict(LogisticRegression_Model_Exp1,testSet_Exp1_Mar1,se.fit=TRUE)\n",
    "rss=sum((Actual_Exp1_Mar1-Log_pred_exp1_Mar1$fit)^2)\n",
    "\n",
    "Log_pred_exp1_Mar2<-predict(LogisticRegression_Model_Exp1,testSet_Exp1_Mar2,se.fit=TRUE)\n",
    "rss=sum((Actual_Exp1_Mar2-Log_pred_exp1_Mar2$fit)^2)\n",
    "\n",
    "\n",
    "textual_feature$V281<-ifelse(target$V281>0, 1,0)\n",
    "LogisticRegression_Model_Exp2 <- glm(formula=V281~.,data=textual_feature,family = binomial(link = 'logit'))\n",
    "\n",
    "Log_pred_onTrain<-predict(LogisticRegression_Model_Exp2,textual_feature,se.fit=TRUE)\n",
    "rss=sum((target-Log_pred_onTrain$fit)^2)\n",
    "\n",
    "Log_pred_exp2_Feb1<-predict(LogisticRegression_Model_Exp2,testSet_Exp2_Feb1,se.fit=TRUE)\n",
    "rss=sum((Actual_Exp1_Feb1-Log_pred_exp2_Feb1$fit)^2)\n",
    "\n",
    "Log_pred_exp2_Feb2<-predict(LogisticRegression_Model_Exp2,testSet_Exp2_Feb2,se.fit=TRUE)\n",
    "rss=sum((Actual_Exp1_Feb2-Log_pred_exp2_Feb2$fit)^2)\n",
    "\n",
    "Log_pred_exp2_Mar1<-predict(LogisticRegression_Model_Exp2,testSet_Exp2_Mar1,se.fit=TRUE)\n",
    "rss=sum((Actual_Exp1_Mar1-Log_pred_exp2_Mar1$fit)^2)\n",
    "\n",
    "Log_pred_exp2_Mar2<-predict(LogisticRegression_Model_Exp2,testSet_Exp2_Mar2,se.fit=TRUE)\n",
    "rss=sum((Actual_Exp1_Mar2-Log_pred_exp2_Mar2$fit)^2)"
   ]
  },
  {
   "cell_type": "code",
   "execution_count": null,
   "metadata": {},
   "outputs": [],
   "source": []
  },
  {
   "cell_type": "code",
   "execution_count": null,
   "metadata": {},
   "outputs": [],
   "source": [
    "library(fmsb)\n",
    "VIF(LinearRegression_Model_Exp1)"
   ]
  }
 ],
 "metadata": {
  "kernelspec": {
   "display_name": "R",
   "language": "R",
   "name": "ir"
  },
  "language_info": {
   "codemirror_mode": "r",
   "file_extension": ".r",
   "mimetype": "text/x-r-source",
   "name": "R",
   "pygments_lexer": "r",
   "version": "3.4.2"
  }
 },
 "nbformat": 4,
 "nbformat_minor": 2
}
